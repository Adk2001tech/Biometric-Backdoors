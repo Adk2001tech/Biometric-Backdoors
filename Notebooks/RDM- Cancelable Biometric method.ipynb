{
 "cells": [
  {
   "cell_type": "code",
   "execution_count": 1,
   "metadata": {},
   "outputs": [],
   "source": [
    "import numpy as np\n",
    "import matplotlib.pyplot as plt\n",
    "\n",
    "from sklearn.decomposition import PCA"
   ]
  },
  {
   "cell_type": "markdown",
   "metadata": {},
   "source": [
    "### LOAD FEATURE VECTORS\n",
    "\n",
    "        75: FEATURE vectores for traget person\n",
    "        24: FEATURE vectores for adversarial person"
   ]
  },
  {
   "cell_type": "code",
   "execution_count": 44,
   "metadata": {},
   "outputs": [],
   "source": [
    "target_128= np.load('../Target_x_128.npy')\n",
    "adv_128= np.load('../adv_x_128.npy')"
   ]
  },
  {
   "cell_type": "code",
   "execution_count": 3,
   "metadata": {},
   "outputs": [
    {
     "data": {
      "text/plain": [
       "((75, 128), (24, 128))"
      ]
     },
     "execution_count": 3,
     "metadata": {},
     "output_type": "execute_result"
    }
   ],
   "source": [
    "target_128.shape, adv_128.shape"
   ]
  },
  {
   "cell_type": "code",
   "execution_count": null,
   "metadata": {},
   "outputs": [],
   "source": []
  },
  {
   "cell_type": "code",
   "execution_count": 4,
   "metadata": {},
   "outputs": [],
   "source": [
    "# 128 -> 2 dim pca \n",
    "def convert_pca(x, ret= False):\n",
    "    pca= PCA(n_components=2)\n",
    "    x= pca.fit_transform(x)\n",
    "    if ret:\n",
    "        return pca, x\n",
    "    return x\n",
    "\n",
    "mix_128= np.concatenate([adv_128, target_128])  #0->23(adv_x_128), 24->36(Target_x_128)\n",
    "pca, mix_2= convert_pca(mix_128, ret= True)"
   ]
  },
  {
   "cell_type": "code",
   "execution_count": 5,
   "metadata": {},
   "outputs": [
    {
     "data": {
      "image/png": "[encoded data removed]",
      "text/plain": [
       "<Figure size 432x288 with 1 Axes>"
      ]
     },
     "metadata": {
      "needs_background": "light"
     },
     "output_type": "display_data"
    }
   ],
   "source": [
    "plt.scatter(mix_2[24:, 0], mix_2[24:, 1], c='green', edgecolors='k', label='Traget')\n",
    "plt.scatter(mix_2[:24, 0], mix_2[:24, 1], c='yellow',edgecolors='k', label='Adversarial')\n",
    "plt.legend()\n",
    "plt.show()"
   ]
  },
  {
   "cell_type": "markdown",
   "metadata": {},
   "source": [
    "### Let's analyse feature distribution"
   ]
  },
  {
   "cell_type": "code",
   "execution_count": 6,
   "metadata": {},
   "outputs": [
    {
     "data": {
      "image/png": "[encoded data removed]",
      "text/plain": [
       "<Figure size 432x288 with 1 Axes>"
      ]
     },
     "metadata": {
      "needs_background": "light"
     },
     "output_type": "display_data"
    }
   ],
   "source": [
    "# SACLE [-3 ~ 4]\n",
    "plt.hist(target_128.flatten(), 100, label='Traget')\n",
    "plt.hist(adv_128.flatten(), 100, label='Adversarial')\n",
    "plt.legend()\n",
    "plt.show()"
   ]
  },
  {
   "cell_type": "code",
   "execution_count": 7,
   "metadata": {},
   "outputs": [
    {
     "data": {
      "text/plain": [
       "(3.8783252, -3.338596)"
      ]
     },
     "execution_count": 7,
     "metadata": {},
     "output_type": "execute_result"
    }
   ],
   "source": [
    "target_128.max(), target_128.min()"
   ]
  },
  {
   "cell_type": "code",
   "execution_count": 8,
   "metadata": {},
   "outputs": [
    {
     "data": {
      "text/plain": [
       "(4.0825906, -3.1021576)"
      ]
     },
     "execution_count": 8,
     "metadata": {},
     "output_type": "execute_result"
    }
   ],
   "source": [
    "adv_128.max(), adv_128.min()"
   ]
  },
  {
   "cell_type": "markdown",
   "metadata": {},
   "source": [
    "### Initially, the original feature vector fv is multiplied by a large constant, say c = 100 due to its low dynamic range"
   ]
  },
  {
   "cell_type": "code",
   "execution_count": 9,
   "metadata": {},
   "outputs": [],
   "source": [
    "c= 100\n",
    "target_128 *= c\n",
    "adv_128 *= c"
   ]
  },
  {
   "cell_type": "code",
   "execution_count": 10,
   "metadata": {},
   "outputs": [
    {
     "data": {
      "image/png": "[encoded data removed]",
      "text/plain": [
       "<Figure size 432x288 with 1 Axes>"
      ]
     },
     "metadata": {
      "needs_background": "light"
     },
     "output_type": "display_data"
    }
   ],
   "source": [
    "# SACLE [-300 ~ 400]\n",
    "plt.hist(target_128.flatten(), 100, label='Traget')\n",
    "plt.hist(adv_128.flatten(), 100, label='Adversarial')\n",
    "plt.legend()\n",
    "plt.show()"
   ]
  },
  {
   "cell_type": "markdown",
   "metadata": {},
   "source": [
    "### To increase the entropy of the template, fv is salted by ORing it with a random grid RG as fs = fv + RG.\n",
    "\n",
    "    The random grid RG is user-specific and has the same dimensions as that of fv. RG is generated by assigning random integral values with equal probability in the desired range, e.g., [1 to 255].\n",
    "    \n",
    "    Seed for Target: 6\n",
    "    Seed for Adversarial: 11"
   ]
  },
  {
   "cell_type": "code",
   "execution_count": 11,
   "metadata": {},
   "outputs": [],
   "source": [
    "seed_tar= 6\n",
    "seed_adv= 11"
   ]
  },
  {
   "cell_type": "code",
   "execution_count": 12,
   "metadata": {},
   "outputs": [],
   "source": [
    "np.random.seed(seed_tar)\n",
    "target_128+= np.random.randint(1, 256, size= target_128.shape)"
   ]
  },
  {
   "cell_type": "code",
   "execution_count": 13,
   "metadata": {},
   "outputs": [],
   "source": [
    "np.random.seed(seed_adv)\n",
    "adv_128+= np.random.randint(1, 256, size= adv_128.shape)"
   ]
  },
  {
   "cell_type": "markdown",
   "metadata": {},
   "source": [
    "### Now salted vector is divided into two equal parts\n",
    "f X =f s(1 : N\n",
    "/2) and f Y = f s(N\n",
    "/2 + 1 : N\n",
    "). Feature\n",
    "point F Pj is defined as (x j = f X(j), y j = f Y (j)) for\n",
    "j = 1..N\n",
    "/2."
   ]
  },
  {
   "cell_type": "code",
   "execution_count": 14,
   "metadata": {},
   "outputs": [],
   "source": [
    "def slat_2dim(X):\n",
    "    samples, features= X.shape\n",
    "    X_out= np.zeros((samples,features//2, 2))\n",
    "    for i, x in enumerate(X):\n",
    "        X_out[i,:, 0]= x[:features//2]\n",
    "        X_out[i,:, 1]= x[features//2:]\n",
    "    return X_out"
   ]
  },
  {
   "cell_type": "code",
   "execution_count": 15,
   "metadata": {},
   "outputs": [
    {
     "data": {
      "text/plain": [
       "((75, 64, 2), (24, 64, 2))"
      ]
     },
     "execution_count": 15,
     "metadata": {},
     "output_type": "execute_result"
    }
   ],
   "source": [
    "adv_128_salt= slat_2dim(adv_128)\n",
    "tar_128_salt= slat_2dim(target_128)\n",
    "tar_128_salt.shape, adv_128_salt.shape"
   ]
  },
  {
   "cell_type": "code",
   "execution_count": 16,
   "metadata": {},
   "outputs": [
    {
     "data": {
      "image/png": "[encoded data removed]",
      "text/plain": [
       "<Figure size 432x288 with 1 Axes>"
      ]
     },
     "metadata": {
      "needs_background": "light"
     },
     "output_type": "display_data"
    }
   ],
   "source": [
    "plt.scatter(tar_128_salt[:, :, 0], tar_128_salt[:, :, 1], label='Traget')\n",
    "plt.scatter(adv_128_salt[:, :, 0], adv_128_salt[:, :, 1], label='Adversarial')\n",
    "plt.legend()\n",
    "plt.show()"
   ]
  },
  {
   "cell_type": "markdown",
   "metadata": {},
   "source": [
    "###  A user-specific key K of dimension 1 × N is generated, which has randomly distributed non-integral values in the range [−100, 100]. \n",
    "The key K is also divided into\n",
    "two equal parts K0 and K1 to define mapping for the random\n",
    "point RPj , (x j = K0(j), y j = K1(j))"
   ]
  },
  {
   "cell_type": "code",
   "execution_count": 17,
   "metadata": {},
   "outputs": [
    {
     "name": "stdout",
     "output_type": "stream",
     "text": [
      "(1, 128)\n",
      "(1, 128)\n"
     ]
    }
   ],
   "source": [
    "np.random.seed(seed_adv)\n",
    "adv_k= np.random.randint(-100, 101, size= (1, 128))\n",
    "print(adv_k.shape)\n",
    "\n",
    "np.random.seed(seed_tar)\n",
    "tar_k= np.random.randint(-100, 101, size= (1, 128))\n",
    "print(tar_k.shape)"
   ]
  },
  {
   "cell_type": "code",
   "execution_count": 18,
   "metadata": {},
   "outputs": [
    {
     "name": "stdout",
     "output_type": "stream",
     "text": [
      "(1, 64, 2)\n",
      "(1, 64, 2)\n"
     ]
    }
   ],
   "source": [
    "adv_k= slat_2dim(adv_k)\n",
    "print(adv_k.shape)\n",
    "\n",
    "tar_k= slat_2dim(tar_k)\n",
    "print(tar_k.shape)"
   ]
  },
  {
   "cell_type": "code",
   "execution_count": 19,
   "metadata": {},
   "outputs": [
    {
     "data": {
      "text/plain": [
       "((75, 64, 2), (1, 64, 2))"
      ]
     },
     "execution_count": 19,
     "metadata": {},
     "output_type": "execute_result"
    }
   ],
   "source": [
    "tar_128_salt.shape, tar_k.shape"
   ]
  },
  {
   "cell_type": "code",
   "execution_count": 20,
   "metadata": {},
   "outputs": [
    {
     "data": {
      "text/plain": [
       "(75, 64, 2)"
      ]
     },
     "execution_count": 20,
     "metadata": {},
     "output_type": "execute_result"
    }
   ],
   "source": [
    "dist =(tar_128_salt- tar_k)**2\n",
    "dist.shape"
   ]
  },
  {
   "cell_type": "code",
   "execution_count": 21,
   "metadata": {},
   "outputs": [
    {
     "data": {
      "text/plain": [
       "(75, 64)"
      ]
     },
     "execution_count": 21,
     "metadata": {},
     "output_type": "execute_result"
    }
   ],
   "source": [
    "dist= np.sqrt(np.sum(dist, 2))\n",
    "dist.shape"
   ]
  },
  {
   "cell_type": "code",
   "execution_count": 22,
   "metadata": {},
   "outputs": [],
   "source": [
    "def calculate_dist(X, K):\n",
    "    dist =(X- K)**2\n",
    "    dist= np.sqrt(np.sum(dist, 2))\n",
    "    return dist"
   ]
  },
  {
   "cell_type": "code",
   "execution_count": 23,
   "metadata": {},
   "outputs": [
    {
     "data": {
      "text/plain": [
       "((75, 64), (24, 64))"
      ]
     },
     "execution_count": 23,
     "metadata": {},
     "output_type": "execute_result"
    }
   ],
   "source": [
    "tar_d= calculate_dist(tar_128_salt, tar_k)\n",
    "adv_d= calculate_dist(adv_128_salt, adv_k)\n",
    "tar_d.shape, adv_d.shape"
   ]
  },
  {
   "cell_type": "code",
   "execution_count": 24,
   "metadata": {},
   "outputs": [],
   "source": [
    "mix_128= np.concatenate([adv_d, tar_d])  #0->23(adv_x_128), 24->36(Target_x_128)\n",
    "pca, mix_2_v1= convert_pca(mix_128, ret= True)"
   ]
  },
  {
   "cell_type": "code",
   "execution_count": 25,
   "metadata": {},
   "outputs": [
    {
     "data": {
      "image/png": "[encoded data removed]",
      "text/plain": [
       "<Figure size 432x288 with 1 Axes>"
      ]
     },
     "metadata": {
      "needs_background": "light"
     },
     "output_type": "display_data"
    }
   ],
   "source": [
    "plt.scatter(mix_2_v1[24:, 0], mix_2_v1[24:, 1], c='green', edgecolors='k', label='Traget')\n",
    "plt.scatter(mix_2_v1[:24, 0], mix_2_v1[:24, 1], c='yellow',edgecolors='k', label='Adversarial')\n",
    "plt.legend()\n",
    "plt.show()"
   ]
  },
  {
   "cell_type": "markdown",
   "metadata": {},
   "source": [
    "### The computation of random distance is a linear operation. \n",
    "\n",
    "In order to provide noninvertibility, median filtering is applied on distance vector D\n",
    "to generate transformed feature vector T f , where the intensity\n",
    "values are shuffled in p ×1 neighborhood. T f is stored as the\n",
    "final transformed template.\n",
    "\n",
    "\n",
    "#### P=8 without seeded shuffling\n",
    "NOTE:\n",
    "\n",
    "Token Seed for Target: 6\n",
    "\n",
    "Seed for Adversarial: 11"
   ]
  },
  {
   "cell_type": "code",
   "execution_count": 26,
   "metadata": {},
   "outputs": [],
   "source": [
    "def shuffle(X_vec, p=4, seed= 0, with_seed= True):\n",
    "    for X in X_vec:\n",
    "        j= 64+p\n",
    "        for i in np.arange(p, j, p):\n",
    "            x= X[(i-p):i]\n",
    "            if with_seed:\n",
    "                np.random.seed(seed)\n",
    "            np.random.shuffle(x[:8])\n",
    "    return X_vec\n",
    "        "
   ]
  },
  {
   "cell_type": "code",
   "execution_count": 27,
   "metadata": {},
   "outputs": [],
   "source": [
    "tar_d_shuffled= shuffle(tar_d.copy(),p=8, seed= seed_tar, with_seed= False)\n",
    "adv_d_shuffled= shuffle(adv_d.copy(),p=8, seed= seed_adv, with_seed= False)"
   ]
  },
  {
   "cell_type": "code",
   "execution_count": 28,
   "metadata": {},
   "outputs": [
    {
     "data": {
      "image/png": "[encoded data removed]",
      "text/plain": [
       "<Figure size 432x288 with 1 Axes>"
      ]
     },
     "metadata": {
      "needs_background": "light"
     },
     "output_type": "display_data"
    }
   ],
   "source": [
    "mix_128= np.concatenate([adv_d_shuffled, tar_d_shuffled])  #0->23(adv_x_128), 24->36(Target_x_128)\n",
    "pca, mix_2_v2= convert_pca(mix_128, ret= True)\n",
    "\n",
    "plt.scatter(mix_2_v2[24:, 0], mix_2_v2[24:, 1], c='green', edgecolors='k', label='Traget')\n",
    "plt.scatter(mix_2_v2[:24, 0], mix_2_v2[:24, 1], c='yellow',edgecolors='k', label='Adversarial')\n",
    "plt.legend()\n",
    "plt.show()"
   ]
  },
  {
   "cell_type": "markdown",
   "metadata": {},
   "source": [
    "#### P=4 without seeded shuffling"
   ]
  },
  {
   "cell_type": "code",
   "execution_count": 29,
   "metadata": {},
   "outputs": [],
   "source": [
    "tar_d_shuffled= shuffle(tar_d.copy(),p=4, seed= seed_tar, with_seed= False)\n",
    "adv_d_shuffled= shuffle(adv_d.copy(),p=4, seed= seed_adv, with_seed= False)"
   ]
  },
  {
   "cell_type": "code",
   "execution_count": 30,
   "metadata": {},
   "outputs": [
    {
     "data": {
      "image/png": "[encoded data removed]",
      "text/plain": [
       "<Figure size 432x288 with 1 Axes>"
      ]
     },
     "metadata": {
      "needs_background": "light"
     },
     "output_type": "display_data"
    }
   ],
   "source": [
    "mix_128= np.concatenate([adv_d_shuffled, tar_d_shuffled])  #0->23(adv_x_128), 24->36(Target_x_128)\n",
    "pca, mix_2_v2= convert_pca(mix_128, ret= True)\n",
    "\n",
    "plt.scatter(mix_2_v2[24:, 0], mix_2_v2[24:, 1], c='green', edgecolors='k', label='Traget')\n",
    "plt.scatter(mix_2_v2[:24, 0], mix_2_v2[:24, 1], c='yellow',edgecolors='k', label='Adversarial')\n",
    "plt.legend()\n",
    "plt.show()"
   ]
  },
  {
   "cell_type": "markdown",
   "metadata": {},
   "source": [
    "#### P=8 with seeded shuffling"
   ]
  },
  {
   "cell_type": "code",
   "execution_count": 31,
   "metadata": {},
   "outputs": [],
   "source": [
    "tar_d_shuffled= shuffle(tar_d.copy(),p=8, seed= seed_tar, with_seed= True)\n",
    "adv_d_shuffled= shuffle(adv_d.copy(),p=8, seed= seed_adv, with_seed= True)"
   ]
  },
  {
   "cell_type": "code",
   "execution_count": 32,
   "metadata": {},
   "outputs": [
    {
     "data": {
      "image/png": "[encoded data removed]",
      "text/plain": [
       "<Figure size 432x288 with 1 Axes>"
      ]
     },
     "metadata": {
      "needs_background": "light"
     },
     "output_type": "display_data"
    }
   ],
   "source": [
    "mix_128= np.concatenate([adv_d_shuffled, tar_d_shuffled])  #0->23(adv_x_128), 24->36(Target_x_128)\n",
    "pca, mix_2_v2= convert_pca(mix_128, ret= True)\n",
    "\n",
    "plt.scatter(mix_2_v2[24:, 0], mix_2_v2[24:, 1], c='green', edgecolors='k', label='Traget')\n",
    "plt.scatter(mix_2_v2[:24, 0], mix_2_v2[:24, 1], c='yellow',edgecolors='k', label='Adversarial')\n",
    "plt.legend()\n",
    "plt.show()"
   ]
  },
  {
   "cell_type": "markdown",
   "metadata": {},
   "source": [
    "#### P=4 with seeded shuffling"
   ]
  },
  {
   "cell_type": "code",
   "execution_count": 33,
   "metadata": {},
   "outputs": [],
   "source": [
    "tar_d_shuffled= shuffle(tar_d.copy(),p=4, seed= seed_tar, with_seed= True)\n",
    "adv_d_shuffled= shuffle(adv_d.copy(),p=4, seed= seed_adv, with_seed= True)"
   ]
  },
  {
   "cell_type": "code",
   "execution_count": 34,
   "metadata": {},
   "outputs": [
    {
     "data": {
      "image/png": "[encoded data removed]",
      "text/plain": [
       "<Figure size 432x288 with 1 Axes>"
      ]
     },
     "metadata": {
      "needs_background": "light"
     },
     "output_type": "display_data"
    }
   ],
   "source": [
    "mix_128= np.concatenate([adv_d_shuffled, tar_d_shuffled])  #0->23(adv_x_128), 24->36(Target_x_128)\n",
    "pca, mix_2_v2= convert_pca(mix_128, ret= True)\n",
    "\n",
    "plt.scatter(mix_2_v2[24:, 0], mix_2_v2[24:, 1], c='green', edgecolors='k', label='Traget')\n",
    "plt.scatter(mix_2_v2[:24, 0], mix_2_v2[:24, 1], c='yellow',edgecolors='k', label='Adversarial')\n",
    "plt.legend()\n",
    "plt.show()"
   ]
  },
  {
   "cell_type": "code",
   "execution_count": 35,
   "metadata": {},
   "outputs": [
    {
     "data": {
      "text/plain": [
       "((75, 64), (24, 64))"
      ]
     },
     "execution_count": 35,
     "metadata": {},
     "output_type": "execute_result"
    }
   ],
   "source": [
    "tar_d_shuffled.shape, adv_d_shuffled.shape"
   ]
  },
  {
   "cell_type": "code",
   "execution_count": null,
   "metadata": {},
   "outputs": [],
   "source": []
  },
  {
   "cell_type": "markdown",
   "metadata": {},
   "source": [
    "## MAIN FUNCTIONs"
   ]
  },
  {
   "cell_type": "code",
   "execution_count": 42,
   "metadata": {},
   "outputs": [],
   "source": [
    "def salt_2dim(X):\n",
    "    samples, features= X.shape\n",
    "    X_out= np.zeros((samples,features//2, 2))\n",
    "    for i, x in enumerate(X):\n",
    "        X_out[i,:, 0]= x[:features//2]\n",
    "        X_out[i,:, 1]= x[features//2:]\n",
    "    return X_out\n",
    "\n",
    "def shuffle(X_vec, p=4, seed= 0, with_seed= True):\n",
    "    for X in X_vec:\n",
    "        j= 64+p\n",
    "        for i in np.arange(p, j, p):\n",
    "            x= X[(i-p):i]\n",
    "            if with_seed:\n",
    "                np.random.seed(seed)\n",
    "            np.random.shuffle(x[:8])\n",
    "    return X_vec\n"
   ]
  },
  {
   "cell_type": "code",
   "execution_count": 43,
   "metadata": {},
   "outputs": [],
   "source": [
    "def get_RDM(Fv, token=None, c=100):\n",
    "    '''\n",
    "    INPUT---\n",
    "    Fv.shape: (None, feature)\n",
    "    token: Uses token key\n",
    "    PROCESS---\n",
    "    1. Feature vector(Fv) multiplied by a large constant, say c = 100 due to its low dynamic range.\n",
    "    2. To increase the entropy of the template, fv is salted by ORing it with a random grid RG as fs = fv + RG.\n",
    "    3. Fv is divided into two equal parts.\n",
    "    4. A user-specific key (K) of dimension 1 × N is generated, \n",
    "    which has randomly distributed non-integral values in the range [−100, 100].\n",
    "    5. Computation of distance via random feature vectors.\n",
    "    6. In order to provide noninvertibility, median filtering is applied on distance vector D\n",
    "    to generate transformed feature vector T f , where the intensity\n",
    "    values are shuffled in p ×1 neighborhood. T f is stored as the\n",
    "    final transformed template.\n",
    "    OUTPUT---\n",
    "    Out.shape: (None, feature//2)\n",
    "    '''\n",
    "    #1\n",
    "    Fv*= c\n",
    "    #2\n",
    "    np.random.seed(token)\n",
    "    Fv+= np.random.randint(1, 256, size= Fv.shape)\n",
    "    #3\n",
    "    Fv= salt_2dim(Fv)\n",
    "    #4\n",
    "    np.random.seed(token)\n",
    "    K= np.random.randint(-100, 101, size= (1, Fv.shape[-1]))\n",
    "    #5\n",
    "    dist =(Fv- K)**2\n",
    "    dist= np.sqrt(np.sum(dist, 2))\n",
    "    #6\n",
    "    Tf= shuffle(dist.copy(), p=4, seed= token, with_seed= True)\n",
    "    return Tf"
   ]
  },
  {
   "cell_type": "code",
   "execution_count": null,
   "metadata": {},
   "outputs": [],
   "source": []
  }
 ],
 "metadata": {
  "kernelspec": {
   "display_name": "Python 3",
   "language": "python",
   "name": "python3"
  },
  "language_info": {
   "codemirror_mode": {
    "name": "ipython",
    "version": 3
   },
   "file_extension": ".py",
   "mimetype": "text/x-python",
   "name": "python",
   "nbconvert_exporter": "python",
   "pygments_lexer": "ipython3",
   "version": "3.8.3"
  }
 },
 "nbformat": 4,
 "nbformat_minor": 4
}
